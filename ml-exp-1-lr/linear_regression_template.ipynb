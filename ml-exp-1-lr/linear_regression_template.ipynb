{
 "cells": [
  {
   "cell_type": "code",
   "execution_count": 1,
   "metadata": {},
   "outputs": [],
   "source": [
    "import pandas as pd\n",
    "import numpy as np\n",
    "import matplotlib.pyplot as plt\n",
    "from sklearn.linear_model import LinearRegression\n",
    "from sklearn.metrics import mean_squared_error, r2_score\n",
    "from sklearn.preprocessing import StandardScaler, PolynomialFeatures"
   ]
  },
  {
   "cell_type": "code",
   "execution_count": null,
   "metadata": {},
   "outputs": [],
   "source": [
    "# 步骤一: 加载数据集\n",
    "# 1.1 利用Pandas库read_csv函数读取'Stock_Exchange.csv'文件至DateFrame类型数据data\n",
    "... #请在此处编写代码\n",
    "# 1.2 使用to_datetime函数将DateFrame数据中的'Date'列由字符串形式转为日期时间对象\n",
    "... #请在此处编写代码\n",
    "# 1.3 使用set_indx函数将'Date'设为索引值\n",
    "data.set_index('Date', inplace=True)"
   ]
  },
  {
   "cell_type": "code",
   "execution_count": null,
   "metadata": {},
   "outputs": [],
   "source": [
    "# 步骤二: 数据预处理及特征工程\n",
    "# 2.1 提取时间('Date'中year、mouth、day、dayofweek、dayofyear、week信息)、前一日收盘价变化('Close'列\n",
    "#     的pct_change信息)、前一日收盘价('Close')作为输入特征X\n",
    "data['Year'] = data.index.year\n",
    "data['Month'] = data.index.month\n",
    "data['Day'] = data.index.day\n",
    "data['Dayofweek'] = data.index.dayofweek\n",
    "data['Dayofyear'] = data.index.dayofyear\n",
    "data['Week'] = data.index.isocalendar().week\n",
    "data['Pct_change'] = data['Close'].pct_change()\n",
    "data['Target'] = data['Close'].shift(-1)\n",
    "# 2.2 使用dropna删除缺失值\n",
    "data.dropna(inplace=True)\n",
    "# 2.3 从data中提取'Year', 'Month', 'Day', 'Dayofweek', 'Dayofyear', 'Week', 'Pct_change'作为数据X；\n",
    "#     从data中提取'Target'作为真值y\n",
    "feature_columns = ['Year', 'Month', 'Day', 'Dayofweek', 'Dayofyear', 'Week', 'Pct_change', 'Close']\n",
    "X = data[feature_columns]\n",
    "y = data['Target']"
   ]
  },
  {
   "cell_type": "code",
   "execution_count": 17,
   "metadata": {},
   "outputs": [],
   "source": [
    "# 步骤三: 数据集划分\n",
    "# 3.1 选取80%数据作为训练数据，剩下20%数据作为测试数据\n",
    "... #请在此处编写代码\n",
    "# 3.2 使用sklearn库中的StandarScaler对X_train和X_test进行归一化\n",
    "... #请在此处编写代码"
   ]
  },
  {
   "cell_type": "code",
   "execution_count": null,
   "metadata": {},
   "outputs": [],
   "source": [
    "# 步骤四：线性回归模型训练\n",
    "# 使用LinearRegression进行线性回归模型训练\n",
    "... #请在此处编写代码"
   ]
  },
  {
   "cell_type": "code",
   "execution_count": null,
   "metadata": {},
   "outputs": [],
   "source": [
    "# 步骤五：模型测试与性能评估\n",
    "# 5.1 根据训练好的模型对输入的训练数据和测试数据计算预测值\n",
    "... #请在此处编写代码\n",
    "# 5.2 利用mean_squared_error、r2_score函数分别计算训练数据和测试数据上的mse, rmse和r2指标，\n",
    "#     分别记为mse_train、rmse_train、r2_train和mse_test、rmse_test、r2_test\n",
    "... #请在此处编写代码\n",
    "# 5.3 使用print输出训练集和测试集上的mse, rmse和r2指标（重要！！！）\n",
    "print('********On Training Data********')\n",
    "print('Mean Squared Error (MSE):', mse_train)\n",
    "print('Rooted Mean Squared Error (RMSE):', rmse_train)\n",
    "print('R2 Score:', r2_train)\n",
    "print('********On Test Data********')\n",
    "print('Mean Squared Error (MSE):', mse_test)\n",
    "print('Rooted Mean Squared Error (RMSE):', rmse_test)\n",
    "print('R2 Score:', r2_test)"
   ]
  },
  {
   "cell_type": "code",
   "execution_count": null,
   "metadata": {},
   "outputs": [],
   "source": [
    "# 步骤六：结果可视化\n",
    "# 6.1 利用plt函数可视化训练数据上的模型预测值和真实对比图，其中横轴是时间('Date')，纵轴是预测的股价\n",
    "plt.figure(figsize=(12, 6))\n",
    "plt.plot(y_train.index, y_train.values, label='Groundtruth', alpha=0.8)\n",
    "plt.plot(y_train.index, y_pred_train, label='Prediction', alpha=0.8)\n",
    "plt.title('Multiple Linear Regression: Prediction vs Groundtruth (On training data)')\n",
    "plt.xlabel('Date')\n",
    "plt.ylabel('Price')\n",
    "plt.legend()\n",
    "plt.grid(True)\n",
    "plt.show()\n",
    "# 6.1 利用plt函数可视化测试数据上的模型预测值和真实对比图，其中横轴是时间('Date')，纵轴是预测的股价\n",
    "plt.figure(figsize=(12, 6))\n",
    "plt.plot(y_test.index, y_test.values, label='Groundtruth', alpha=0.8)\n",
    "plt.plot(y_test.index, y_pred, label='Prediction', alpha=0.8)\n",
    "plt.title('Multiple Linear Regression: Prediction vs Groundtruth (On test data)')\n",
    "plt.xlabel('Date')\n",
    "plt.ylabel('Price')\n",
    "plt.legend()\n",
    "plt.grid(True)\n",
    "plt.show()"
   ]
  }
 ],
 "metadata": {
  "kernelspec": {
   "display_name": "MindSpore",
   "language": "python",
   "name": "mindspore"
  },
  "language_info": {
   "codemirror_mode": {
    "name": "ipython",
    "version": 3
   },
   "file_extension": ".py",
   "mimetype": "text/x-python",
   "name": "python",
   "nbconvert_exporter": "python",
   "pygments_lexer": "ipython3",
   "version": "3.9.18"
  }
 },
 "nbformat": 4,
 "nbformat_minor": 4
}
