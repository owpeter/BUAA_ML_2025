{
 "cells": [
  {
   "cell_type": "code",
   "execution_count": null,
   "metadata": {},
   "outputs": [],
   "source": [
    "# !pip install torchvision==0.16.0\n",
    "# !pip install seaborn\n",
    "# # 安装后点击上方 Restart the kernal"
   ]
  },
  {
   "cell_type": "code",
   "execution_count": 2,
   "metadata": {},
   "outputs": [],
   "source": [
    "# 步骤一：导入相关库\n",
    "import os\n",
    "import torch\n",
    "import torch.nn as nn\n",
    "import torch.utils.data as Data\n",
    "import torchvision\n",
    "import torchvision.transforms as transforms\n",
    "from sklearn.metrics import confusion_matrix\n",
    "import matplotlib.pyplot as plt\n",
    "import seaborn as sns\n",
    "from tqdm import tqdm"
   ]
  },
  {
   "cell_type": "code",
   "execution_count": 4,
   "metadata": {},
   "outputs": [],
   "source": [
    "# 步骤二：加载数据集\n",
    "# 2.1 设置超参数\n",
    "EPOCH = 10\n",
    "BATCH_SIZE = 64\n",
    "LR = 0.003\n",
    "DOWNLOAD_CIFAR = False\n",
    "DEVICE = 'cuda'\n",
    "\n",
    "# 2.2 数据预处理\n",
    "transform = transforms.Compose([\n",
    "    transforms.ToTensor(), # 请在此处编写代码：ToTensor\n",
    "    transforms.Normalize(mean=(0.4914, 0.4822, 0.4465), std=(0.2023, 0.1994, 0.2010)) # 请在此处编写代码：Normalize（均值与方差）\n",
    "])\n",
    "\n",
    "# 2.3 检查是否需要下载数据集\n",
    "if not(os.path.exists('./cifar/')) or not os.listdir('./cifar/'):\n",
    "    DOWNLOAD_CIFAR = True\n",
    "\n",
    "# 2.4 加载训练集和测试集\n",
    "train_data = torchvision.datasets.CIFAR10(\n",
    "    root='./cifar/',\n",
    "    train=True,\n",
    "    transform=transform,\n",
    "    download=DOWNLOAD_CIFAR\n",
    ")\n",
    "test_data = torchvision.datasets.CIFAR10(\n",
    "    root='./cifar/',\n",
    "    train=False,\n",
    "    transform=transform,\n",
    "    download=DOWNLOAD_CIFAR\n",
    ")\n",
    "\n",
    "\n",
    "# 2.5 封装数据加载器\n",
    "train_loader = Data.DataLoader( # 请在此处编写代码\n",
    "    dataset=train_data,\n",
    "    batch_size=BATCH_SIZE,\n",
    "    shuffle=True,\n",
    "    num_workers=2 # Optional: depending on your system\n",
    ")\n",
    "test_loader = Data.DataLoader( # 请在此处编写代码\n",
    "    dataset=test_data,\n",
    "    batch_size=BATCH_SIZE,\n",
    "    shuffle=False,\n",
    "    num_workers=2 # Optional: depending on your system\n",
    ")"
   ]
  },
  {
   "cell_type": "code",
   "execution_count": 5,
   "metadata": {},
   "outputs": [
    {
     "name": "stdout",
     "output_type": "stream",
     "text": [
      "CNN(\n",
      "  (conv): Sequential(\n",
      "    (0): Conv2d(3, 32, kernel_size=(3, 3), stride=(1, 1), padding=(1, 1))\n",
      "    (1): BatchNorm2d(32, eps=1e-05, momentum=0.1, affine=True, track_running_stats=True)\n",
      "    (2): ReLU()\n",
      "    (3): MaxPool2d(kernel_size=2, stride=2, padding=0, dilation=1, ceil_mode=False)\n",
      "    (4): Conv2d(32, 64, kernel_size=(3, 3), stride=(1, 1), padding=(1, 1))\n",
      "    (5): BatchNorm2d(64, eps=1e-05, momentum=0.1, affine=True, track_running_stats=True)\n",
      "    (6): ReLU()\n",
      "    (7): MaxPool2d(kernel_size=2, stride=2, padding=0, dilation=1, ceil_mode=False)\n",
      "  )\n",
      "  (fc): Sequential(\n",
      "    (0): Flatten(start_dim=1, end_dim=-1)\n",
      "    (1): Linear(in_features=4096, out_features=512, bias=True)\n",
      "    (2): ReLU()\n",
      "    (3): Dropout(p=0.5, inplace=False)\n",
      "    (4): Linear(in_features=512, out_features=10, bias=True)\n",
      "  )\n",
      ")\n"
     ]
    }
   ],
   "source": [
    "# 步骤三：CNN模型设计\n",
    "class CNN(nn.Module):\n",
    "    def __init__(self):\n",
    "        super(CNN, self).__init__()\n",
    "        self.conv = nn.Sequential(\n",
    "            # Block 1\n",
    "            nn.Conv2d(in_channels=3, out_channels=32, kernel_size=3, padding=1), # 请在此处编写代码：Conv2d\n",
    "            nn.BatchNorm2d(32), # 请在此处编写代码：BatchNorm2d\n",
    "            nn.ReLU(), # 请在此处编写代码：ReLU\n",
    "            nn.MaxPool2d(kernel_size=2, stride=2), # 请在此处编写代码：MaxPool2d (Output: 32x16x16)\n",
    "\n",
    "            # Block 2\n",
    "            nn.Conv2d(in_channels=32, out_channels=64, kernel_size=3, padding=1),\n",
    "            nn.BatchNorm2d(64),\n",
    "            nn.ReLU(),\n",
    "            nn.MaxPool2d(kernel_size=2, stride=2) # (Output: 64x8x8)\n",
    "        )\n",
    "        self.fc = nn.Sequential(\n",
    "            nn.Flatten(), # 请在此处编写代码：Flatten\n",
    "            nn.Linear(64 * 8 * 8, 512), # 请在此处编写代码：Linear (Input features: 64*8*8)\n",
    "            nn.ReLU(), # 请在此处编写代码：ReLU\n",
    "            nn.Dropout(0.5), # 请在此处编写代码：Dropout\n",
    "            nn.Linear(512, 10) # 请在此处编写代码：Linear (Output classes: 10 for CIFAR-10)\n",
    "        )\n",
    "\n",
    "    def forward(self, x):\n",
    "        x = self.conv(x) # 请在此处编写代码\n",
    "        x = self.fc(x) # 请在此处编写代码\n",
    "        return x\n",
    "\n",
    "# 3.2 实例化模型并迁移到设备\n",
    "cnn = CNN() # 请在此处编写代码\n",
    "cnn = cnn.to(DEVICE)\n",
    "\n",
    "print(cnn)"
   ]
  },
  {
   "cell_type": "code",
   "execution_count": 6,
   "metadata": {},
   "outputs": [],
   "source": [
    "# 步骤四：设置损失函数与优化器\n",
    "optimizer = torch.optim.Adam(cnn.parameters(), lr=LR) # 请在此处编写代码：Adam优化器\n",
    "criterion = nn.CrossEntropyLoss() # 请在此处编写代码：交叉熵损失"
   ]
  },
  {
   "cell_type": "code",
   "execution_count": 7,
   "metadata": {},
   "outputs": [
    {
     "name": "stderr",
     "output_type": "stream",
     "text": [
      "Training Epoch 1:   2%|▏         | 17/782 [00:00<00:27, 27.81it/s]"
     ]
    },
    {
     "name": "stdout",
     "output_type": "stream",
     "text": [
      "Epoch [1/10], Batch [0/782], Loss: 2.3867\n"
     ]
    },
    {
     "name": "stderr",
     "output_type": "stream",
     "text": [
      "Training Epoch 1:  17%|█▋        | 131/782 [00:01<00:03, 167.53it/s]"
     ]
    },
    {
     "name": "stdout",
     "output_type": "stream",
     "text": [
      "Epoch [1/10], Batch [100/782], Loss: 1.8186\n"
     ]
    },
    {
     "name": "stderr",
     "output_type": "stream",
     "text": [
      "Training Epoch 1:  31%|███       | 240/782 [00:01<00:02, 202.69it/s]"
     ]
    },
    {
     "name": "stdout",
     "output_type": "stream",
     "text": [
      "Epoch [1/10], Batch [200/782], Loss: 1.6039\n"
     ]
    },
    {
     "name": "stderr",
     "output_type": "stream",
     "text": [
      "Training Epoch 1:  42%|████▏     | 328/782 [00:02<00:02, 207.45it/s]"
     ]
    },
    {
     "name": "stdout",
     "output_type": "stream",
     "text": [
      "Epoch [1/10], Batch [300/782], Loss: 1.6676\n"
     ]
    },
    {
     "name": "stderr",
     "output_type": "stream",
     "text": [
      "Training Epoch 1:  56%|█████▌    | 438/782 [00:02<00:01, 209.83it/s]"
     ]
    },
    {
     "name": "stdout",
     "output_type": "stream",
     "text": [
      "Epoch [1/10], Batch [400/782], Loss: 1.6486\n"
     ]
    },
    {
     "name": "stderr",
     "output_type": "stream",
     "text": [
      "Training Epoch 1:  67%|██████▋   | 526/782 [00:03<00:01, 209.72it/s]"
     ]
    },
    {
     "name": "stdout",
     "output_type": "stream",
     "text": [
      "Epoch [1/10], Batch [500/782], Loss: 1.5256\n"
     ]
    },
    {
     "name": "stderr",
     "output_type": "stream",
     "text": [
      "Training Epoch 1:  81%|████████▏ | 636/782 [00:03<00:00, 211.31it/s]"
     ]
    },
    {
     "name": "stdout",
     "output_type": "stream",
     "text": [
      "Epoch [1/10], Batch [600/782], Loss: 1.4492\n"
     ]
    },
    {
     "name": "stderr",
     "output_type": "stream",
     "text": [
      "Training Epoch 1:  92%|█████████▏| 722/782 [00:04<00:00, 209.27it/s]"
     ]
    },
    {
     "name": "stdout",
     "output_type": "stream",
     "text": [
      "Epoch [1/10], Batch [700/782], Loss: 1.5363\n"
     ]
    },
    {
     "name": "stderr",
     "output_type": "stream",
     "text": [
      "Training Epoch 1: 100%|██████████| 782/782 [00:04<00:00, 168.23it/s]\n"
     ]
    },
    {
     "name": "stdout",
     "output_type": "stream",
     "text": [
      "Epoch [1] Average Train Loss: 1.7393\n"
     ]
    },
    {
     "name": "stderr",
     "output_type": "stream",
     "text": [
      "Testing: 100%|██████████| 157/157 [00:00<00:00, 167.47it/s]\n"
     ]
    },
    {
     "name": "stdout",
     "output_type": "stream",
     "text": [
      "Test Accuracy after Epoch [1]: 53.18%\n"
     ]
    },
    {
     "name": "stderr",
     "output_type": "stream",
     "text": [
      "Training Epoch 2:   0%|          | 1/782 [00:00<01:47,  7.26it/s]"
     ]
    },
    {
     "name": "stdout",
     "output_type": "stream",
     "text": [
      "Epoch [2/10], Batch [0/782], Loss: 1.6984\n"
     ]
    },
    {
     "name": "stderr",
     "output_type": "stream",
     "text": [
      "Training Epoch 2:  16%|█▌        | 126/782 [00:00<00:03, 194.85it/s]"
     ]
    },
    {
     "name": "stdout",
     "output_type": "stream",
     "text": [
      "Epoch [2/10], Batch [100/782], Loss: 1.2670\n"
     ]
    },
    {
     "name": "stderr",
     "output_type": "stream",
     "text": [
      "Training Epoch 2:  30%|██▉       | 233/782 [00:01<00:02, 202.27it/s]"
     ]
    },
    {
     "name": "stdout",
     "output_type": "stream",
     "text": [
      "Epoch [2/10], Batch [200/782], Loss: 1.4365\n"
     ]
    },
    {
     "name": "stderr",
     "output_type": "stream",
     "text": [
      "Training Epoch 2:  43%|████▎     | 338/782 [00:01<00:02, 203.69it/s]"
     ]
    },
    {
     "name": "stdout",
     "output_type": "stream",
     "text": [
      "Epoch [2/10], Batch [300/782], Loss: 1.4296\n"
     ]
    },
    {
     "name": "stderr",
     "output_type": "stream",
     "text": [
      "Training Epoch 2:  54%|█████▍    | 423/782 [00:02<00:01, 203.56it/s]"
     ]
    },
    {
     "name": "stdout",
     "output_type": "stream",
     "text": [
      "Epoch [2/10], Batch [400/782], Loss: 1.3813\n"
     ]
    },
    {
     "name": "stderr",
     "output_type": "stream",
     "text": [
      "Training Epoch 2:  67%|██████▋   | 527/782 [00:02<00:01, 183.96it/s]"
     ]
    },
    {
     "name": "stdout",
     "output_type": "stream",
     "text": [
      "Epoch [2/10], Batch [500/782], Loss: 1.4091\n"
     ]
    },
    {
     "name": "stderr",
     "output_type": "stream",
     "text": [
      "Training Epoch 2:  81%|████████  | 635/782 [00:03<00:00, 204.40it/s]"
     ]
    },
    {
     "name": "stdout",
     "output_type": "stream",
     "text": [
      "Epoch [2/10], Batch [600/782], Loss: 0.9681\n"
     ]
    },
    {
     "name": "stderr",
     "output_type": "stream",
     "text": [
      "Training Epoch 2:  95%|█████████▍| 742/782 [00:03<00:00, 205.44it/s]"
     ]
    },
    {
     "name": "stdout",
     "output_type": "stream",
     "text": [
      "Epoch [2/10], Batch [700/782], Loss: 1.3180\n"
     ]
    },
    {
     "name": "stderr",
     "output_type": "stream",
     "text": [
      "Training Epoch 2: 100%|██████████| 782/782 [00:04<00:00, 193.49it/s]\n"
     ]
    },
    {
     "name": "stdout",
     "output_type": "stream",
     "text": [
      "Epoch [2] Average Train Loss: 1.3676\n"
     ]
    },
    {
     "name": "stderr",
     "output_type": "stream",
     "text": [
      "Testing: 100%|██████████| 157/157 [00:00<00:00, 178.27it/s]\n"
     ]
    },
    {
     "name": "stdout",
     "output_type": "stream",
     "text": [
      "Test Accuracy after Epoch [2]: 62.42%\n"
     ]
    },
    {
     "name": "stderr",
     "output_type": "stream",
     "text": [
      "Training Epoch 3:   1%|          | 7/782 [00:00<00:11, 66.05it/s]"
     ]
    },
    {
     "name": "stdout",
     "output_type": "stream",
     "text": [
      "Epoch [3/10], Batch [0/782], Loss: 1.1951\n"
     ]
    },
    {
     "name": "stderr",
     "output_type": "stream",
     "text": [
      "Training Epoch 3:  18%|█▊        | 138/782 [00:00<00:03, 204.40it/s]"
     ]
    },
    {
     "name": "stdout",
     "output_type": "stream",
     "text": [
      "Epoch [3/10], Batch [100/782], Loss: 1.0669\n"
     ]
    },
    {
     "name": "stderr",
     "output_type": "stream",
     "text": [
      "Training Epoch 3:  29%|██▉       | 226/782 [00:01<00:02, 209.23it/s]"
     ]
    },
    {
     "name": "stdout",
     "output_type": "stream",
     "text": [
      "Epoch [3/10], Batch [200/782], Loss: 1.2824\n"
     ]
    },
    {
     "name": "stderr",
     "output_type": "stream",
     "text": [
      "Training Epoch 3:  43%|████▎     | 336/782 [00:01<00:02, 210.30it/s]"
     ]
    },
    {
     "name": "stdout",
     "output_type": "stream",
     "text": [
      "Epoch [3/10], Batch [300/782], Loss: 1.3782\n"
     ]
    },
    {
     "name": "stderr",
     "output_type": "stream",
     "text": [
      "Training Epoch 3:  54%|█████▎    | 419/782 [00:02<00:02, 165.27it/s]"
     ]
    },
    {
     "name": "stdout",
     "output_type": "stream",
     "text": [
      "Epoch [3/10], Batch [400/782], Loss: 1.1866\n"
     ]
    },
    {
     "name": "stderr",
     "output_type": "stream",
     "text": [
      "Training Epoch 3:  68%|██████▊   | 530/782 [00:02<00:01, 179.35it/s]"
     ]
    },
    {
     "name": "stdout",
     "output_type": "stream",
     "text": [
      "Epoch [3/10], Batch [500/782], Loss: 1.1595\n"
     ]
    },
    {
     "name": "stderr",
     "output_type": "stream",
     "text": [
      "Training Epoch 3:  81%|████████  | 632/782 [00:03<00:00, 195.04it/s]"
     ]
    },
    {
     "name": "stdout",
     "output_type": "stream",
     "text": [
      "Epoch [3/10], Batch [600/782], Loss: 1.1440\n"
     ]
    },
    {
     "name": "stderr",
     "output_type": "stream",
     "text": [
      "Training Epoch 3:  94%|█████████▍| 737/782 [00:03<00:00, 201.06it/s]"
     ]
    },
    {
     "name": "stdout",
     "output_type": "stream",
     "text": [
      "Epoch [3/10], Batch [700/782], Loss: 1.2114\n"
     ]
    },
    {
     "name": "stderr",
     "output_type": "stream",
     "text": [
      "Training Epoch 3: 100%|██████████| 782/782 [00:04<00:00, 188.59it/s]\n"
     ]
    },
    {
     "name": "stdout",
     "output_type": "stream",
     "text": [
      "Epoch [3] Average Train Loss: 1.2163\n"
     ]
    },
    {
     "name": "stderr",
     "output_type": "stream",
     "text": [
      "Testing: 100%|██████████| 157/157 [00:00<00:00, 176.47it/s]\n"
     ]
    },
    {
     "name": "stdout",
     "output_type": "stream",
     "text": [
      "Test Accuracy after Epoch [3]: 64.62%\n"
     ]
    },
    {
     "name": "stderr",
     "output_type": "stream",
     "text": [
      "Training Epoch 4:   1%|          | 6/782 [00:00<00:13, 58.87it/s]"
     ]
    },
    {
     "name": "stdout",
     "output_type": "stream",
     "text": [
      "Epoch [4/10], Batch [0/782], Loss: 0.9021\n"
     ]
    },
    {
     "name": "stderr",
     "output_type": "stream",
     "text": [
      "Training Epoch 4:  18%|█▊        | 137/782 [00:00<00:03, 204.49it/s]"
     ]
    },
    {
     "name": "stdout",
     "output_type": "stream",
     "text": [
      "Epoch [4/10], Batch [100/782], Loss: 1.3017\n"
     ]
    },
    {
     "name": "stderr",
     "output_type": "stream",
     "text": [
      "Training Epoch 4:  28%|██▊       | 222/782 [00:01<00:02, 195.17it/s]"
     ]
    },
    {
     "name": "stdout",
     "output_type": "stream",
     "text": [
      "Epoch [4/10], Batch [200/782], Loss: 0.9851\n"
     ]
    },
    {
     "name": "stderr",
     "output_type": "stream",
     "text": [
      "Training Epoch 4:  42%|████▏     | 332/782 [00:01<00:02, 208.13it/s]"
     ]
    },
    {
     "name": "stdout",
     "output_type": "stream",
     "text": [
      "Epoch [4/10], Batch [300/782], Loss: 0.9200\n"
     ]
    },
    {
     "name": "stderr",
     "output_type": "stream",
     "text": [
      "Training Epoch 4:  56%|█████▌    | 439/782 [00:02<00:01, 207.38it/s]"
     ]
    },
    {
     "name": "stdout",
     "output_type": "stream",
     "text": [
      "Epoch [4/10], Batch [400/782], Loss: 0.9944\n"
     ]
    },
    {
     "name": "stderr",
     "output_type": "stream",
     "text": [
      "Training Epoch 4:  67%|██████▋   | 524/782 [00:02<00:01, 207.68it/s]"
     ]
    },
    {
     "name": "stdout",
     "output_type": "stream",
     "text": [
      "Epoch [4/10], Batch [500/782], Loss: 1.0017\n"
     ]
    },
    {
     "name": "stderr",
     "output_type": "stream",
     "text": [
      "Training Epoch 4:  81%|████████  | 632/782 [00:03<00:00, 206.76it/s]"
     ]
    },
    {
     "name": "stdout",
     "output_type": "stream",
     "text": [
      "Epoch [4/10], Batch [600/782], Loss: 0.9477\n"
     ]
    },
    {
     "name": "stderr",
     "output_type": "stream",
     "text": [
      "Training Epoch 4:  95%|█████████▍| 739/782 [00:03<00:00, 204.76it/s]"
     ]
    },
    {
     "name": "stdout",
     "output_type": "stream",
     "text": [
      "Epoch [4/10], Batch [700/782], Loss: 1.0642\n"
     ]
    },
    {
     "name": "stderr",
     "output_type": "stream",
     "text": [
      "Training Epoch 4: 100%|██████████| 782/782 [00:03<00:00, 199.88it/s]\n"
     ]
    },
    {
     "name": "stdout",
     "output_type": "stream",
     "text": [
      "Epoch [4] Average Train Loss: 1.1213\n"
     ]
    },
    {
     "name": "stderr",
     "output_type": "stream",
     "text": [
      "Testing: 100%|██████████| 157/157 [00:00<00:00, 184.12it/s]\n"
     ]
    },
    {
     "name": "stdout",
     "output_type": "stream",
     "text": [
      "Test Accuracy after Epoch [4]: 67.12%\n"
     ]
    },
    {
     "name": "stderr",
     "output_type": "stream",
     "text": [
      "Training Epoch 5:   0%|          | 1/782 [00:00<01:19,  9.82it/s]"
     ]
    },
    {
     "name": "stdout",
     "output_type": "stream",
     "text": [
      "Epoch [5/10], Batch [0/782], Loss: 1.0580\n"
     ]
    },
    {
     "name": "stderr",
     "output_type": "stream",
     "text": [
      "Training Epoch 5:  15%|█▌        | 121/782 [00:00<00:04, 156.98it/s]"
     ]
    },
    {
     "name": "stdout",
     "output_type": "stream",
     "text": [
      "Epoch [5/10], Batch [100/782], Loss: 1.0243\n"
     ]
    },
    {
     "name": "stderr",
     "output_type": "stream",
     "text": [
      "Training Epoch 5:  29%|██▉       | 225/782 [00:01<00:02, 192.92it/s]"
     ]
    },
    {
     "name": "stdout",
     "output_type": "stream",
     "text": [
      "Epoch [5/10], Batch [200/782], Loss: 1.3679\n"
     ]
    },
    {
     "name": "stderr",
     "output_type": "stream",
     "text": [
      "Training Epoch 5:  42%|████▏     | 325/782 [00:01<00:02, 196.39it/s]"
     ]
    },
    {
     "name": "stdout",
     "output_type": "stream",
     "text": [
      "Epoch [5/10], Batch [300/782], Loss: 0.9956\n"
     ]
    },
    {
     "name": "stderr",
     "output_type": "stream",
     "text": [
      "Training Epoch 5:  54%|█████▍    | 425/782 [00:02<00:01, 197.01it/s]"
     ]
    },
    {
     "name": "stdout",
     "output_type": "stream",
     "text": [
      "Epoch [5/10], Batch [400/782], Loss: 1.0854\n"
     ]
    },
    {
     "name": "stderr",
     "output_type": "stream",
     "text": [
      "Training Epoch 5:  68%|██████▊   | 528/782 [00:02<00:01, 202.34it/s]"
     ]
    },
    {
     "name": "stdout",
     "output_type": "stream",
     "text": [
      "Epoch [5/10], Batch [500/782], Loss: 1.0114\n"
     ]
    },
    {
     "name": "stderr",
     "output_type": "stream",
     "text": [
      "Training Epoch 5:  81%|████████▏ | 637/782 [00:03<00:00, 206.25it/s]"
     ]
    },
    {
     "name": "stdout",
     "output_type": "stream",
     "text": [
      "Epoch [5/10], Batch [600/782], Loss: 1.2280\n"
     ]
    },
    {
     "name": "stderr",
     "output_type": "stream",
     "text": [
      "Training Epoch 5:  92%|█████████▏| 721/782 [00:03<00:00, 198.45it/s]"
     ]
    },
    {
     "name": "stdout",
     "output_type": "stream",
     "text": [
      "Epoch [5/10], Batch [700/782], Loss: 1.1830\n"
     ]
    },
    {
     "name": "stderr",
     "output_type": "stream",
     "text": [
      "Training Epoch 5: 100%|██████████| 782/782 [00:04<00:00, 183.05it/s]\n"
     ]
    },
    {
     "name": "stdout",
     "output_type": "stream",
     "text": [
      "Epoch [5] Average Train Loss: 1.0583\n"
     ]
    },
    {
     "name": "stderr",
     "output_type": "stream",
     "text": [
      "Testing: 100%|██████████| 157/157 [00:00<00:00, 171.16it/s]\n"
     ]
    },
    {
     "name": "stdout",
     "output_type": "stream",
     "text": [
      "Test Accuracy after Epoch [5]: 68.98%\n"
     ]
    },
    {
     "name": "stderr",
     "output_type": "stream",
     "text": [
      "Training Epoch 6:   0%|          | 1/782 [00:00<01:45,  7.42it/s]"
     ]
    },
    {
     "name": "stdout",
     "output_type": "stream",
     "text": [
      "Epoch [6/10], Batch [0/782], Loss: 1.0689\n"
     ]
    },
    {
     "name": "stderr",
     "output_type": "stream",
     "text": [
      "Training Epoch 6:  16%|█▌        | 127/782 [00:00<00:03, 195.52it/s]"
     ]
    },
    {
     "name": "stdout",
     "output_type": "stream",
     "text": [
      "Epoch [6/10], Batch [100/782], Loss: 1.0448\n"
     ]
    },
    {
     "name": "stderr",
     "output_type": "stream",
     "text": [
      "Training Epoch 6:  30%|██▉       | 232/782 [00:01<00:02, 200.70it/s]"
     ]
    },
    {
     "name": "stdout",
     "output_type": "stream",
     "text": [
      "Epoch [6/10], Batch [200/782], Loss: 1.2487\n"
     ]
    },
    {
     "name": "stderr",
     "output_type": "stream",
     "text": [
      "Training Epoch 6:  44%|████▎     | 341/782 [00:01<00:02, 207.26it/s]"
     ]
    },
    {
     "name": "stdout",
     "output_type": "stream",
     "text": [
      "Epoch [6/10], Batch [300/782], Loss: 0.9726\n"
     ]
    },
    {
     "name": "stderr",
     "output_type": "stream",
     "text": [
      "Training Epoch 6:  54%|█████▍    | 425/782 [00:02<00:01, 205.81it/s]"
     ]
    },
    {
     "name": "stdout",
     "output_type": "stream",
     "text": [
      "Epoch [6/10], Batch [400/782], Loss: 1.0327\n"
     ]
    },
    {
     "name": "stderr",
     "output_type": "stream",
     "text": [
      "Training Epoch 6:  68%|██████▊   | 533/782 [00:02<00:01, 205.97it/s]"
     ]
    },
    {
     "name": "stdout",
     "output_type": "stream",
     "text": [
      "Epoch [6/10], Batch [500/782], Loss: 0.7639\n"
     ]
    },
    {
     "name": "stderr",
     "output_type": "stream",
     "text": [
      "Training Epoch 6:  79%|███████▉  | 617/782 [00:03<00:00, 182.26it/s]"
     ]
    },
    {
     "name": "stdout",
     "output_type": "stream",
     "text": [
      "Epoch [6/10], Batch [600/782], Loss: 0.8608\n"
     ]
    },
    {
     "name": "stderr",
     "output_type": "stream",
     "text": [
      "Training Epoch 6:  92%|█████████▏| 723/782 [00:03<00:00, 197.67it/s]"
     ]
    },
    {
     "name": "stdout",
     "output_type": "stream",
     "text": [
      "Epoch [6/10], Batch [700/782], Loss: 0.8235\n"
     ]
    },
    {
     "name": "stderr",
     "output_type": "stream",
     "text": [
      "Training Epoch 6: 100%|██████████| 782/782 [00:04<00:00, 193.17it/s]\n"
     ]
    },
    {
     "name": "stdout",
     "output_type": "stream",
     "text": [
      "Epoch [6] Average Train Loss: 1.0006\n"
     ]
    },
    {
     "name": "stderr",
     "output_type": "stream",
     "text": [
      "Testing: 100%|██████████| 157/157 [00:00<00:00, 169.10it/s]\n"
     ]
    },
    {
     "name": "stdout",
     "output_type": "stream",
     "text": [
      "Test Accuracy after Epoch [6]: 68.83%\n"
     ]
    },
    {
     "name": "stderr",
     "output_type": "stream",
     "text": [
      "Training Epoch 7:   0%|          | 1/782 [00:00<01:20,  9.75it/s]"
     ]
    },
    {
     "name": "stdout",
     "output_type": "stream",
     "text": [
      "Epoch [7/10], Batch [0/782], Loss: 1.0568\n"
     ]
    },
    {
     "name": "stderr",
     "output_type": "stream",
     "text": [
      "Training Epoch 7:  17%|█▋        | 130/782 [00:00<00:03, 199.39it/s]"
     ]
    },
    {
     "name": "stdout",
     "output_type": "stream",
     "text": [
      "Epoch [7/10], Batch [100/782], Loss: 1.2133\n"
     ]
    },
    {
     "name": "stderr",
     "output_type": "stream",
     "text": [
      "Training Epoch 7:  30%|███       | 236/782 [00:01<00:02, 204.58it/s]"
     ]
    },
    {
     "name": "stdout",
     "output_type": "stream",
     "text": [
      "Epoch [7/10], Batch [200/782], Loss: 0.8715\n"
     ]
    },
    {
     "name": "stderr",
     "output_type": "stream",
     "text": [
      "Training Epoch 7:  41%|████      | 322/782 [00:01<00:02, 204.36it/s]"
     ]
    },
    {
     "name": "stdout",
     "output_type": "stream",
     "text": [
      "Epoch [7/10], Batch [300/782], Loss: 0.9398\n"
     ]
    },
    {
     "name": "stderr",
     "output_type": "stream",
     "text": [
      "Training Epoch 7:  55%|█████▍    | 428/782 [00:02<00:01, 203.23it/s]"
     ]
    },
    {
     "name": "stdout",
     "output_type": "stream",
     "text": [
      "Epoch [7/10], Batch [400/782], Loss: 1.0663\n"
     ]
    },
    {
     "name": "stderr",
     "output_type": "stream",
     "text": [
      "Training Epoch 7:  68%|██████▊   | 533/782 [00:02<00:01, 203.65it/s]"
     ]
    },
    {
     "name": "stdout",
     "output_type": "stream",
     "text": [
      "Epoch [7/10], Batch [500/782], Loss: 0.9378\n"
     ]
    },
    {
     "name": "stderr",
     "output_type": "stream",
     "text": [
      "Training Epoch 7:  82%|████████▏ | 638/782 [00:03<00:00, 201.35it/s]"
     ]
    },
    {
     "name": "stdout",
     "output_type": "stream",
     "text": [
      "Epoch [7/10], Batch [600/782], Loss: 0.8716\n"
     ]
    },
    {
     "name": "stderr",
     "output_type": "stream",
     "text": [
      "Training Epoch 7:  92%|█████████▏| 722/782 [00:03<00:00, 201.48it/s]"
     ]
    },
    {
     "name": "stdout",
     "output_type": "stream",
     "text": [
      "Epoch [7/10], Batch [700/782], Loss: 0.9286\n"
     ]
    },
    {
     "name": "stderr",
     "output_type": "stream",
     "text": [
      "Training Epoch 7: 100%|██████████| 782/782 [00:03<00:00, 197.41it/s]\n"
     ]
    },
    {
     "name": "stdout",
     "output_type": "stream",
     "text": [
      "Epoch [7] Average Train Loss: 0.9460\n"
     ]
    },
    {
     "name": "stderr",
     "output_type": "stream",
     "text": [
      "Testing: 100%|██████████| 157/157 [00:00<00:00, 168.15it/s]\n"
     ]
    },
    {
     "name": "stdout",
     "output_type": "stream",
     "text": [
      "Test Accuracy after Epoch [7]: 68.80%\n"
     ]
    },
    {
     "name": "stderr",
     "output_type": "stream",
     "text": [
      "Training Epoch 8:   0%|          | 1/782 [00:00<01:46,  7.32it/s]"
     ]
    },
    {
     "name": "stdout",
     "output_type": "stream",
     "text": [
      "Epoch [8/10], Batch [0/782], Loss: 0.7912\n"
     ]
    },
    {
     "name": "stderr",
     "output_type": "stream",
     "text": [
      "Training Epoch 8:  16%|█▋        | 128/782 [00:00<00:03, 196.47it/s]"
     ]
    },
    {
     "name": "stdout",
     "output_type": "stream",
     "text": [
      "Epoch [8/10], Batch [100/782], Loss: 0.7769\n"
     ]
    },
    {
     "name": "stderr",
     "output_type": "stream",
     "text": [
      "Training Epoch 8:  30%|███       | 235/782 [00:01<00:02, 204.28it/s]"
     ]
    },
    {
     "name": "stdout",
     "output_type": "stream",
     "text": [
      "Epoch [8/10], Batch [200/782], Loss: 0.8554\n"
     ]
    },
    {
     "name": "stderr",
     "output_type": "stream",
     "text": [
      "Training Epoch 8:  41%|████▏     | 323/782 [00:01<00:02, 207.18it/s]"
     ]
    },
    {
     "name": "stdout",
     "output_type": "stream",
     "text": [
      "Epoch [8/10], Batch [300/782], Loss: 0.8577\n"
     ]
    },
    {
     "name": "stderr",
     "output_type": "stream",
     "text": [
      "Training Epoch 8:  55%|█████▌    | 431/782 [00:02<00:01, 204.09it/s]"
     ]
    },
    {
     "name": "stdout",
     "output_type": "stream",
     "text": [
      "Epoch [8/10], Batch [400/782], Loss: 0.9818\n"
     ]
    },
    {
     "name": "stderr",
     "output_type": "stream",
     "text": [
      "Training Epoch 8:  69%|██████▉   | 539/782 [00:02<00:01, 205.61it/s]"
     ]
    },
    {
     "name": "stdout",
     "output_type": "stream",
     "text": [
      "Epoch [8/10], Batch [500/782], Loss: 0.7492\n"
     ]
    },
    {
     "name": "stderr",
     "output_type": "stream",
     "text": [
      "Training Epoch 8:  80%|███████▉  | 623/782 [00:03<00:00, 204.13it/s]"
     ]
    },
    {
     "name": "stdout",
     "output_type": "stream",
     "text": [
      "Epoch [8/10], Batch [600/782], Loss: 0.6873\n"
     ]
    },
    {
     "name": "stderr",
     "output_type": "stream",
     "text": [
      "Training Epoch 8:  93%|█████████▎| 731/782 [00:03<00:00, 205.75it/s]"
     ]
    },
    {
     "name": "stdout",
     "output_type": "stream",
     "text": [
      "Epoch [8/10], Batch [700/782], Loss: 0.8107\n"
     ]
    },
    {
     "name": "stderr",
     "output_type": "stream",
     "text": [
      "Training Epoch 8: 100%|██████████| 782/782 [00:03<00:00, 197.18it/s]\n"
     ]
    },
    {
     "name": "stdout",
     "output_type": "stream",
     "text": [
      "Epoch [8] Average Train Loss: 0.9071\n"
     ]
    },
    {
     "name": "stderr",
     "output_type": "stream",
     "text": [
      "Testing: 100%|██████████| 157/157 [00:00<00:00, 169.97it/s]\n"
     ]
    },
    {
     "name": "stdout",
     "output_type": "stream",
     "text": [
      "Test Accuracy after Epoch [8]: 72.00%\n"
     ]
    },
    {
     "name": "stderr",
     "output_type": "stream",
     "text": [
      "Training Epoch 9:   0%|          | 1/782 [00:00<01:48,  7.23it/s]"
     ]
    },
    {
     "name": "stdout",
     "output_type": "stream",
     "text": [
      "Epoch [9/10], Batch [0/782], Loss: 0.8636\n"
     ]
    },
    {
     "name": "stderr",
     "output_type": "stream",
     "text": [
      "Training Epoch 9:  16%|█▌        | 125/782 [00:00<00:03, 190.49it/s]"
     ]
    },
    {
     "name": "stdout",
     "output_type": "stream",
     "text": [
      "Epoch [9/10], Batch [100/782], Loss: 0.7779\n"
     ]
    },
    {
     "name": "stderr",
     "output_type": "stream",
     "text": [
      "Training Epoch 9:  30%|██▉       | 232/782 [00:01<00:02, 203.24it/s]"
     ]
    },
    {
     "name": "stdout",
     "output_type": "stream",
     "text": [
      "Epoch [9/10], Batch [200/782], Loss: 0.8301\n"
     ]
    },
    {
     "name": "stderr",
     "output_type": "stream",
     "text": [
      "Training Epoch 9:  43%|████▎     | 337/782 [00:01<00:02, 205.58it/s]"
     ]
    },
    {
     "name": "stdout",
     "output_type": "stream",
     "text": [
      "Epoch [9/10], Batch [300/782], Loss: 0.7522\n"
     ]
    },
    {
     "name": "stderr",
     "output_type": "stream",
     "text": [
      "Training Epoch 9:  54%|█████▍    | 421/782 [00:02<00:01, 203.71it/s]"
     ]
    },
    {
     "name": "stdout",
     "output_type": "stream",
     "text": [
      "Epoch [9/10], Batch [400/782], Loss: 0.7076\n"
     ]
    },
    {
     "name": "stderr",
     "output_type": "stream",
     "text": [
      "Training Epoch 9:  68%|██████▊   | 528/782 [00:02<00:01, 198.23it/s]"
     ]
    },
    {
     "name": "stdout",
     "output_type": "stream",
     "text": [
      "Epoch [9/10], Batch [500/782], Loss: 0.8498\n"
     ]
    },
    {
     "name": "stderr",
     "output_type": "stream",
     "text": [
      "Training Epoch 9:  81%|████████▏ | 636/782 [00:03<00:00, 205.24it/s]"
     ]
    },
    {
     "name": "stdout",
     "output_type": "stream",
     "text": [
      "Epoch [9/10], Batch [600/782], Loss: 0.8432\n"
     ]
    },
    {
     "name": "stderr",
     "output_type": "stream",
     "text": [
      "Training Epoch 9:  92%|█████████▏| 722/782 [00:03<00:00, 203.32it/s]"
     ]
    },
    {
     "name": "stdout",
     "output_type": "stream",
     "text": [
      "Epoch [9/10], Batch [700/782], Loss: 1.1823\n"
     ]
    },
    {
     "name": "stderr",
     "output_type": "stream",
     "text": [
      "Training Epoch 9: 100%|██████████| 782/782 [00:04<00:00, 194.97it/s]\n"
     ]
    },
    {
     "name": "stdout",
     "output_type": "stream",
     "text": [
      "Epoch [9] Average Train Loss: 0.8689\n"
     ]
    },
    {
     "name": "stderr",
     "output_type": "stream",
     "text": [
      "Testing: 100%|██████████| 157/157 [00:00<00:00, 169.53it/s]\n"
     ]
    },
    {
     "name": "stdout",
     "output_type": "stream",
     "text": [
      "Test Accuracy after Epoch [9]: 71.38%\n"
     ]
    },
    {
     "name": "stderr",
     "output_type": "stream",
     "text": [
      "Training Epoch 10:   0%|          | 1/782 [00:00<01:47,  7.23it/s]"
     ]
    },
    {
     "name": "stdout",
     "output_type": "stream",
     "text": [
      "Epoch [10/10], Batch [0/782], Loss: 0.9094\n"
     ]
    },
    {
     "name": "stderr",
     "output_type": "stream",
     "text": [
      "Training Epoch 10:  17%|█▋        | 130/782 [00:00<00:03, 196.83it/s]"
     ]
    },
    {
     "name": "stdout",
     "output_type": "stream",
     "text": [
      "Epoch [10/10], Batch [100/782], Loss: 0.8388\n"
     ]
    },
    {
     "name": "stderr",
     "output_type": "stream",
     "text": [
      "Training Epoch 10:  28%|██▊       | 217/782 [00:01<00:03, 184.14it/s]"
     ]
    },
    {
     "name": "stdout",
     "output_type": "stream",
     "text": [
      "Epoch [10/10], Batch [200/782], Loss: 0.9442\n"
     ]
    },
    {
     "name": "stderr",
     "output_type": "stream",
     "text": [
      "Training Epoch 10:  42%|████▏     | 325/782 [00:01<00:02, 207.69it/s]"
     ]
    },
    {
     "name": "stdout",
     "output_type": "stream",
     "text": [
      "Epoch [10/10], Batch [300/782], Loss: 0.8737\n"
     ]
    },
    {
     "name": "stderr",
     "output_type": "stream",
     "text": [
      "Training Epoch 10:  56%|█████▌    | 435/782 [00:02<00:01, 210.76it/s]"
     ]
    },
    {
     "name": "stdout",
     "output_type": "stream",
     "text": [
      "Epoch [10/10], Batch [400/782], Loss: 0.9288\n"
     ]
    },
    {
     "name": "stderr",
     "output_type": "stream",
     "text": [
      "Training Epoch 10:  67%|██████▋   | 523/782 [00:02<00:01, 211.20it/s]"
     ]
    },
    {
     "name": "stdout",
     "output_type": "stream",
     "text": [
      "Epoch [10/10], Batch [500/782], Loss: 0.6702\n"
     ]
    },
    {
     "name": "stderr",
     "output_type": "stream",
     "text": [
      "Training Epoch 10:  81%|████████  | 630/782 [00:03<00:00, 177.18it/s]"
     ]
    },
    {
     "name": "stdout",
     "output_type": "stream",
     "text": [
      "Epoch [10/10], Batch [600/782], Loss: 0.8983\n"
     ]
    },
    {
     "name": "stderr",
     "output_type": "stream",
     "text": [
      "Training Epoch 10:  93%|█████████▎| 727/782 [00:03<00:00, 159.73it/s]"
     ]
    },
    {
     "name": "stdout",
     "output_type": "stream",
     "text": [
      "Epoch [10/10], Batch [700/782], Loss: 0.8144\n"
     ]
    },
    {
     "name": "stderr",
     "output_type": "stream",
     "text": [
      "Training Epoch 10: 100%|██████████| 782/782 [00:04<00:00, 182.72it/s]\n"
     ]
    },
    {
     "name": "stdout",
     "output_type": "stream",
     "text": [
      "Epoch [10] Average Train Loss: 0.8258\n"
     ]
    },
    {
     "name": "stderr",
     "output_type": "stream",
     "text": [
      "Testing: 100%|██████████| 157/157 [00:00<00:00, 160.71it/s]"
     ]
    },
    {
     "name": "stdout",
     "output_type": "stream",
     "text": [
      "Test Accuracy after Epoch [10]: 71.67%\n"
     ]
    },
    {
     "name": "stderr",
     "output_type": "stream",
     "text": [
      "\n"
     ]
    }
   ],
   "source": [
    "# 步骤五：训练模型\n",
    "train_losses = []\n",
    "test_accuracies = []\n",
    "\n",
    "# 5.1 定义训练函数\n",
    "def train(epoch):\n",
    "    cnn.train() # 请在此处编写代码：切换到训练模式（model.train()）\n",
    "    epoch_loss = 0.0\n",
    "    for batch_idx, (inputs, targets) in enumerate(tqdm(train_loader, desc=f\"Training Epoch {epoch+1}\")):\n",
    "        inputs, targets = inputs.to(DEVICE), targets.to(DEVICE) # 请在此处编写代码：将 inputs 和 targets 迁移到设备（to(DEVICE)）\n",
    "\n",
    "        optimizer.zero_grad() # 请在此处编写代码：清除梯度（optimizer.zero_grad）\n",
    "        outputs = cnn(inputs) # 请在此处编写代码：前向传播（model(inputs)）\n",
    "        loss = criterion(outputs, targets) # 请在此处编写代码：计算损失（criterion(outputs, targets)）\n",
    "        loss.backward() # 请在此处编写代码：反向传播（loss.backward）\n",
    "        optimizer.step() # 请在此处编写代码：参数更新（optimizer.step）\n",
    "\n",
    "        epoch_loss += loss.item() # 请在此处编写代码：累计损失（epoch_loss += loss.item()）\n",
    "\n",
    "        # 可选：每 N 批次打印中间 loss\n",
    "        if batch_idx % 100 == 0:\n",
    "            current_loss = loss.item() # 请在此处编写代码：打印当前 batch 的平均 loss (using loss.item() for current batch loss)\n",
    "            print(f\"Epoch [{epoch+1}/{EPOCH}], Batch [{batch_idx}/{len(train_loader)}], Loss: {current_loss:.4f}\")\n",
    "\n",
    "    avg_epoch_loss = epoch_loss / len(train_loader) # 请在此处编写代码：计算 epoch 平均 loss\n",
    "    train_losses.append(avg_epoch_loss)\n",
    "    print(f\"Epoch [{epoch+1}] Average Train Loss: {avg_epoch_loss:.4f}\")\n",
    "\n",
    "# 5.2 定义测试函数（返回 acc，预测标签，真实标签）\n",
    "def test():\n",
    "    cnn.eval() # 请在此处编写代码：切换模型为评估模式\n",
    "    correct = 0\n",
    "    total = 0\n",
    "    all_preds = []\n",
    "    all_labels = []\n",
    "    with torch.no_grad(): # 请在此处编写代码：关闭梯度计算（torch.no_grad）\n",
    "        for inputs, targets in tqdm(test_loader, desc=\"Testing\"):\n",
    "            inputs, targets = inputs.to(DEVICE), targets.to(DEVICE) # 请在此处编写代码：数据迁移到DEVICE\n",
    "            outputs = cnn(inputs) # 请在此处编写代码：前向传播\n",
    "            _, predicted = torch.max(outputs.data, 1) # 请在此处编写代码：获取预测标签（outputs.max(dim=1)）\n",
    "\n",
    "            total += targets.size(0) # 请在此处编写代码：更新 total 和 correct 数量\n",
    "            correct += (predicted == targets).sum().item() # 请在此处编写代码：更新 total 和 correct 数量\n",
    "\n",
    "            all_preds.append(predicted.cpu()) # 请在此处编写代码：保存预测和真实标签到 all_preds 和 all_labels\n",
    "            all_labels.append(targets.cpu()) # 请在此处编写代码：保存预测和真实标签到 all_preds 和 all_labels\n",
    "\n",
    "    acc = 100. * correct / total # 请在此处编写代码：计算准确率（百分比形式）\n",
    "    pred_y = torch.cat(all_preds)\n",
    "    true_y = torch.cat(all_labels)\n",
    "    return acc, pred_y, true_y\n",
    "\n",
    "# 5.3 开始训练过程\n",
    "os.makedirs('./output', exist_ok=True)\n",
    "\n",
    "for epoch in range(EPOCH):\n",
    "    train(epoch) # 请在此处编写代码：调用 train 函数\n",
    "    acc, _, _ = test() # 请在此处编写代码：调用 test 函数\n",
    "    test_accuracies.append(acc) # 请在此处编写代码：保存本轮测试准确率\n",
    "    print(f\"Test Accuracy after Epoch [{epoch+1}]: {acc:.2f}%\") # Corrected to print with % and match final_acc print format"
   ]
  },
  {
   "cell_type": "code",
   "execution_count": 8,
   "metadata": {},
   "outputs": [
    {
     "name": "stderr",
     "output_type": "stream",
     "text": [
      "Testing: 100%|██████████| 157/157 [00:00<00:00, 169.50it/s]\n"
     ]
    },
    {
     "name": "stdout",
     "output_type": "stream",
     "text": [
      "\n",
      "Final Test Accuracy: 71.67%\n"
     ]
    },
    {
     "data": {
      "image/png": "[encoded data removed]",
      "text/plain": [
       "<Figure size 640x480 with 1 Axes>"
      ]
     },
     "metadata": {},
     "output_type": "display_data"
    },
    {
     "data": {
      "image/png": "[encoded data removed]",
      "text/plain": [
       "<Figure size 640x480 with 1 Axes>"
      ]
     },
     "metadata": {},
     "output_type": "display_data"
    },
    {
     "data": {
      "image/png": "[encoded data removed]",
      "text/plain": [
       "<Figure size 800x600 with 2 Axes>"
      ]
     },
     "metadata": {},
     "output_type": "display_data"
    },
    {
     "name": "stdout",
     "output_type": "stream",
     "text": [
      "Prediction: [3 8 1 0 6 6 1 4 3 1]\n",
      "Actual:     [3 8 8 0 6 6 1 6 3 1]\n"
     ]
    }
   ],
   "source": [
    "# 步骤六：模型评估\n",
    "# 6.1 最后一次测试\n",
    "final_acc, pred_y, true_y = test()\n",
    "print(f\"\\nFinal Test Accuracy: {final_acc:.2f}%\")\n",
    "\n",
    "# 6.2 绘制训练loss变化曲线\n",
    "plt.figure()\n",
    "plt.plot(range(1, EPOCH+1), train_losses, marker='o', label='Train Loss')\n",
    "plt.xlabel(\"Epoch\")\n",
    "plt.ylabel(\"Loss\")\n",
    "plt.title(\"Training Loss over Epochs\")\n",
    "plt.legend()\n",
    "plt.grid(True)\n",
    "plt.savefig('./output/train_loss_curve.png')\n",
    "plt.show()\n",
    "\n",
    "# 6.3 绘制测试准确率变化曲线\n",
    "plt.figure()\n",
    "plt.plot(range(1, EPOCH+1), test_accuracies, marker='s', color='orange', label='Test Accuracy')\n",
    "plt.xlabel(\"Epoch\")\n",
    "plt.ylabel(\"Accuracy\")\n",
    "plt.title(\"Test Accuracy over Epochs\")\n",
    "plt.legend()\n",
    "plt.grid(True)\n",
    "plt.savefig('./output/test_accuracy_curve.png')\n",
    "plt.show()\n",
    "\n",
    "# 6.4 绘制混淆矩阵\n",
    "conf_mat = confusion_matrix(true_y.numpy(), pred_y.numpy())\n",
    "\n",
    "plt.figure(figsize=(8, 6))\n",
    "sns.heatmap(conf_mat, annot=True, fmt='d', cmap='Blues')\n",
    "plt.xlabel(\"Predicted Label\")\n",
    "plt.ylabel(\"True Label\")\n",
    "plt.title(\"Confusion Matrix on CIFAR-10 Test Set\")\n",
    "plt.savefig('./output/confusion_matrix.png')\n",
    "plt.show()\n",
    "\n",
    "# 6.5 打印前10个预测结果\n",
    "print('Prediction:', pred_y[:10].numpy())\n",
    "print('Actual:    ', true_y[:10].numpy())"
   ]
  },
  {
   "cell_type": "code",
   "execution_count": 9,
   "metadata": {},
   "outputs": [
    {
     "name": "stdout",
     "output_type": "stream",
     "text": [
      "Model saved to ./output/cifar10_cnn_model.pth\n"
     ]
    }
   ],
   "source": [
    "# 步骤七：保存模型与结果\n",
    "# 请在此处编写代码：保存模型\n",
    "model_save_path = './output/cifar10_cnn_model.pth'\n",
    "torch.save(cnn.state_dict(), model_save_path)\n",
    "print(f\"Model saved to {model_save_path}\")"
   ]
  },
  {
   "cell_type": "code",
   "execution_count": 10,
   "metadata": {},
   "outputs": [
    {
     "data": {
      "image/png": "[encoded data removed]",
      "text/plain": [
       "<Figure size 1500x600 with 10 Axes>"
      ]
     },
     "metadata": {},
     "output_type": "display_data"
    }
   ],
   "source": [
    "# 步骤八：推理结果可视化\n",
    "# 8.1 CIFAR10 类别标签\n",
    "classes = ['plane', 'car', 'bird', 'cat', 'deer',\n",
    "           'dog', 'frog', 'horse', 'ship', 'truck']\n",
    "\n",
    "# 8.2 可视化推理函数\n",
    "def visualize_cifar10_predictions(model, test_loader, device='cpu', num_images=10):\n",
    "    \"\"\"\n",
    "    可视化模型在 CIFAR-10 测试集上的部分预测结果（RGB 彩色图）\n",
    "    \"\"\"\n",
    "    model.eval() # 请在此处编写代码：将模型设置为 eval 模式\n",
    "    shown = 0\n",
    "    plt.figure(figsize=(15, 6)) # Adjusted figure size for better layout with 10 images\n",
    "\n",
    "    # CIFAR-10 Normalization parameters (must match those used in training transform)\n",
    "    mean = torch.tensor([0.4914, 0.4822, 0.4465]).to(device)\n",
    "    std = torch.tensor([0.2023, 0.1994, 0.2010]).to(device)\n",
    "\n",
    "    with torch.no_grad():\n",
    "        for inputs, targets in test_loader:\n",
    "            inputs, targets = inputs.to(device), targets.to(device) # 请在此处编写代码：将 inputs 和 targets 迁移到指定设备\n",
    "            outputs = model(inputs) # 请在此处编写代码：前向传播获得模型输出\n",
    "            _, predicted = torch.max(outputs, 1) # 请在此处编写代码：获取预测结果\n",
    "\n",
    "            for i in range(inputs.size(0)):\n",
    "                if shown >= num_images:\n",
    "                    break\n",
    "\n",
    "                img_tensor = inputs[i] # Get the i-th image tensor\n",
    "                # Denormalize: img = img * std + mean\n",
    "                # Permute from (C, H, W) to (H, W, C) for matplotlib\n",
    "                img = img_tensor.permute(1, 2, 0) * std + mean # 请在此处编写代码：提取第 i 张图像并反归一化\n",
    "                img = img.cpu().numpy() # Move to CPU and convert to numpy\n",
    "                img = img.clip(0, 1) # Clip values to [0,1] in case of floating point inaccuracies\n",
    "\n",
    "\n",
    "                true_label = classes[targets[i].item()] # 请在此处编写代码：获取真实类别名称\n",
    "                pred_label = classes[predicted[i].item()] # 请在此处编写代码：获取预测类别名称\n",
    "\n",
    "                plt.subplot(2, (num_images + 1) // 2, shown + 1)\n",
    "                plt.imshow(img)\n",
    "                plt.title(f\"Pred: {pred_label}\\nTrue: {true_label}\", fontsize=9) # Added newline for better readability\n",
    "                plt.axis('off')\n",
    "                shown += 1\n",
    "\n",
    "            if shown >= num_images:\n",
    "                break\n",
    "\n",
    "    plt.suptitle(\"CIFAR-10 Inference Results on Test Images\", fontsize=16)\n",
    "    plt.tight_layout(rect=[0, 0, 1, 0.96]) # Adjust layout to make space for suptitle\n",
    "    plt.savefig('./output/cifar10_test_predictions.png')\n",
    "    plt.show()\n",
    "\n",
    "# 8.3 执行推理可视化\n",
    "# Ensure the model is on the correct device for visualization if different from training DEVICE\n",
    "# For visualization, it's often easier to move model to CPU if it was on NPU/GPU and inputs are handled on CPU\n",
    "# However, the function takes 'device' as an argument, so we use the original DEVICE\n",
    "visualize_cifar10_predictions(cnn, test_loader, device=DEVICE, num_images=10)"
   ]
  }
 ],
 "metadata": {
  "kernelspec": {
   "display_name": "base",
   "language": "python",
   "name": "python3"
  },
  "language_info": {
   "codemirror_mode": {
    "name": "ipython",
    "version": 3
   },
   "file_extension": ".py",
   "mimetype": "text/x-python",
   "name": "python",
   "nbconvert_exporter": "python",
   "pygments_lexer": "ipython3",
   "version": "3.12.3"
  }
 },
 "nbformat": 4,
 "nbformat_minor": 4
}
